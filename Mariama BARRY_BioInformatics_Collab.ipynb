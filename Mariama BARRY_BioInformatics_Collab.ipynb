{
  "nbformat": 4,
  "nbformat_minor": 0,
  "metadata": {
    "colab": {
      "provenance": []
    },
    "kernelspec": {
      "name": "python3",
      "display_name": "Python 3"
    },
    "language_info": {
      "name": "python"
    }
  },
  "cells": [
    {
      "cell_type": "code",
      "source": [
        "from google.colab import drive\n",
        "drive.mount('/content/drive')\n"
      ],
      "metadata": {
        "colab": {
          "base_uri": "https://localhost:8080/"
        },
        "id": "azrUpS83N6KF",
        "outputId": "9274d25a-831c-47a0-ae07-f948db7bde8f"
      },
      "execution_count": 2,
      "outputs": [
        {
          "output_type": "stream",
          "name": "stdout",
          "text": [
            "Mounted at /content/drive\n"
          ]
        }
      ]
    },
    {
      "cell_type": "code",
      "source": [
        "mkdir Bioinformatics\n"
      ],
      "metadata": {
        "id": "eaHikZ9EONGZ"
      },
      "execution_count": 3,
      "outputs": []
    },
    {
      "cell_type": "code",
      "source": [
        "cd Bioinformatics\n"
      ],
      "metadata": {
        "colab": {
          "base_uri": "https://localhost:8080/"
        },
        "id": "cVyK-ypkOTav",
        "outputId": "8facaf59-0aeb-4dcb-cb80-a7ebc430b9cf"
      },
      "execution_count": 4,
      "outputs": [
        {
          "output_type": "stream",
          "name": "stdout",
          "text": [
            "/content/Bioinformatics\n"
          ]
        }
      ]
    },
    {
      "cell_type": "code",
      "source": [
        "mkdir scripts data\n"
      ],
      "metadata": {
        "id": "i2nPiX0xOXSk"
      },
      "execution_count": 5,
      "outputs": []
    },
    {
      "cell_type": "code",
      "source": [
        "cd scripts\n"
      ],
      "metadata": {
        "colab": {
          "base_uri": "https://localhost:8080/"
        },
        "id": "U6pW6hjHOdQZ",
        "outputId": "c010e21e-fbc8-43eb-ec70-5a1c68106c04"
      },
      "execution_count": 6,
      "outputs": [
        {
          "output_type": "stream",
          "name": "stdout",
          "text": [
            "/content/Bioinformatics/scripts\n"
          ]
        }
      ]
    },
    {
      "cell_type": "code",
      "source": [
        "%%writefile hello.sh\n",
        "#!/bin/bash\n",
        "# Script to greet the user with their name and surname\n",
        "\n",
        "# Check if the correct number of arguments are provided\n",
        "if [ \"$#\" -ne 2 ]; then\n",
        "    echo \"Usage: $0 <nom> <prenom>\"\n",
        "    exit 1\n",
        "fi\n",
        "\n",
        "# Assign arguments to variables\n",
        "nom=$1\n",
        "prenom=$2\n",
        "\n",
        "# Print the greeting message\n",
        "echo \"Hello $nom $prenom!\"\n"
      ],
      "metadata": {
        "colab": {
          "base_uri": "https://localhost:8080/"
        },
        "id": "yGMyIF1YO0ps",
        "outputId": "634c7270-0c78-448f-9012-f9b682d51012"
      },
      "execution_count": 8,
      "outputs": [
        {
          "output_type": "stream",
          "name": "stdout",
          "text": [
            "Writing hello.sh\n"
          ]
        }
      ]
    },
    {
      "cell_type": "code",
      "source": [
        "!chmod +x hello.sh\n"
      ],
      "metadata": {
        "id": "FwrDrAUBO76S"
      },
      "execution_count": 9,
      "outputs": []
    },
    {
      "cell_type": "code",
      "source": [
        "!./hello.sh Barry Mariama\n"
      ],
      "metadata": {
        "colab": {
          "base_uri": "https://localhost:8080/"
        },
        "id": "8jXA0K4UPAGH",
        "outputId": "ec2af929-d4e1-4f3a-e2b6-380cd03793d7"
      },
      "execution_count": 10,
      "outputs": [
        {
          "output_type": "stream",
          "name": "stdout",
          "text": [
            "Hello Barry Mariama!\n"
          ]
        }
      ]
    },
    {
      "cell_type": "code",
      "execution_count": 1,
      "metadata": {
        "colab": {
          "base_uri": "https://localhost:8080/"
        },
        "id": "sRJlJl00NVln",
        "outputId": "80b0de47-7f0c-444e-ddee-04a288e8b188"
      },
      "outputs": [
        {
          "output_type": "stream",
          "name": "stdout",
          "text": [
            "Entrez le nombre de nucléotides : 4\n",
            "Sequence aléatoire de 4 nucléotides : TCAC\n"
          ]
        }
      ],
      "source": [
        "import random\n",
        "\n",
        "def generate_random_sequence(length):\n",
        "    \"\"\"Génère une séquence aléatoire de nucléotides.\"\"\"\n",
        "    nucleotides = ['A', 'T', 'C', 'G']\n",
        "    return ''.join(random.choice(nucleotides) for _ in range(length))\n",
        "\n",
        "def main():\n",
        "    # Demander à l'utilisateur de saisir la longueur de la séquence\n",
        "    try:\n",
        "        length = int(input(\"Entrez le nombre de nucléotides : \"))\n",
        "    except ValueError:\n",
        "        print(\"Le nombre de nucléotides doit être un entier.\")\n",
        "        return\n",
        "\n",
        "    if length <= 0:\n",
        "        print(\"Le nombre de nucléotides doit être un entier positif.\")\n",
        "        return\n",
        "\n",
        "    # Générer et afficher la séquence aléatoire\n",
        "    sequence = generate_random_sequence(length)\n",
        "    print(f\"Sequence aléatoire de {length} nucléotides : {sequence}\")\n",
        "\n",
        "if __name__ == \"__main__\":\n",
        "    main()\n"
      ]
    }
  ]
}